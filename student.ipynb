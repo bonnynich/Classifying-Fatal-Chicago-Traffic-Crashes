{
 "cells": [
  {
   "cell_type": "markdown",
   "metadata": {},
   "source": [
    "## Final Project Submission\n",
    "\n",
    "* Student name: Bonny Nichol\n",
    "* Student pace: Self Paced\n",
    "* Scheduled project review date/time: November 17, 2020\n",
    "* Instructor name: Jeff Herman\n",
    "* Blog post URL:\n"
   ]
  },
  {
   "cell_type": "code",
   "execution_count": 1,
   "metadata": {},
   "outputs": [
    {
     "name": "stderr",
     "output_type": "stream",
     "text": [
      "/Users/rosegold/opt/anaconda3/envs/learn-env/lib/python3.6/site-packages/statsmodels/tools/_testing.py:19: FutureWarning: pandas.util.testing is deprecated. Use the functions in the public API at pandas.testing instead.\n",
      "  import pandas.util.testing as tm\n"
     ]
    }
   ],
   "source": [
    "import warnings\n",
    "import pandas as pd\n",
    "import seaborn as sns\n",
    "import numpy as np\n",
    "import matplotlib.pyplot as plt\n",
    "%matplotlib inline\n",
    "plt.style.use('seaborn-colorblind')\n",
    "import descartes\n",
    "import geopandas as gpd\n",
    "from shapely.geometry import Point, Polygon"
   ]
  },
  {
   "cell_type": "code",
   "execution_count": 27,
   "metadata": {},
   "outputs": [
    {
     "data": {
      "text/html": [
       "<div>\n",
       "<style scoped>\n",
       "    .dataframe tbody tr th:only-of-type {\n",
       "        vertical-align: middle;\n",
       "    }\n",
       "\n",
       "    .dataframe tbody tr th {\n",
       "        vertical-align: top;\n",
       "    }\n",
       "\n",
       "    .dataframe thead th {\n",
       "        text-align: right;\n",
       "    }\n",
       "</style>\n",
       "<table border=\"1\" class=\"dataframe\">\n",
       "  <thead>\n",
       "    <tr style=\"text-align: right;\">\n",
       "      <th></th>\n",
       "      <th>CRASH_RECORD_ID</th>\n",
       "      <th>RD_NO</th>\n",
       "      <th>CRASH_DATE_EST_I</th>\n",
       "      <th>CRASH_DATE</th>\n",
       "      <th>POSTED_SPEED_LIMIT</th>\n",
       "      <th>TRAFFIC_CONTROL_DEVICE</th>\n",
       "      <th>DEVICE_CONDITION</th>\n",
       "      <th>WEATHER_CONDITION</th>\n",
       "      <th>LIGHTING_CONDITION</th>\n",
       "      <th>FIRST_CRASH_TYPE</th>\n",
       "      <th>...</th>\n",
       "      <th>INJURIES_NON_INCAPACITATING</th>\n",
       "      <th>INJURIES_REPORTED_NOT_EVIDENT</th>\n",
       "      <th>INJURIES_NO_INDICATION</th>\n",
       "      <th>INJURIES_UNKNOWN</th>\n",
       "      <th>CRASH_HOUR</th>\n",
       "      <th>CRASH_DAY_OF_WEEK</th>\n",
       "      <th>CRASH_MONTH</th>\n",
       "      <th>LATITUDE</th>\n",
       "      <th>LONGITUDE</th>\n",
       "      <th>LOCATION</th>\n",
       "    </tr>\n",
       "  </thead>\n",
       "  <tbody>\n",
       "    <tr>\n",
       "      <th>0</th>\n",
       "      <td>073682ef84ff827659552d4254ad1b98bfec24935cc9cc...</td>\n",
       "      <td>JB460108</td>\n",
       "      <td>NaN</td>\n",
       "      <td>10/02/2018 06:30:00 PM</td>\n",
       "      <td>10</td>\n",
       "      <td>NO CONTROLS</td>\n",
       "      <td>NO CONTROLS</td>\n",
       "      <td>CLEAR</td>\n",
       "      <td>DARKNESS</td>\n",
       "      <td>PARKED MOTOR VEHICLE</td>\n",
       "      <td>...</td>\n",
       "      <td>0.0</td>\n",
       "      <td>0.0</td>\n",
       "      <td>1.0</td>\n",
       "      <td>0.0</td>\n",
       "      <td>18</td>\n",
       "      <td>3</td>\n",
       "      <td>10</td>\n",
       "      <td>NaN</td>\n",
       "      <td>NaN</td>\n",
       "      <td>NaN</td>\n",
       "    </tr>\n",
       "    <tr>\n",
       "      <th>1</th>\n",
       "      <td>1560fb8a1e32b528fef8bfd677d2b3fc5ab37278b157fa...</td>\n",
       "      <td>JC325941</td>\n",
       "      <td>NaN</td>\n",
       "      <td>06/27/2019 04:00:00 PM</td>\n",
       "      <td>45</td>\n",
       "      <td>NO CONTROLS</td>\n",
       "      <td>NO CONTROLS</td>\n",
       "      <td>CLEAR</td>\n",
       "      <td>DAYLIGHT</td>\n",
       "      <td>SIDESWIPE SAME DIRECTION</td>\n",
       "      <td>...</td>\n",
       "      <td>0.0</td>\n",
       "      <td>0.0</td>\n",
       "      <td>2.0</td>\n",
       "      <td>0.0</td>\n",
       "      <td>16</td>\n",
       "      <td>5</td>\n",
       "      <td>6</td>\n",
       "      <td>NaN</td>\n",
       "      <td>NaN</td>\n",
       "      <td>NaN</td>\n",
       "    </tr>\n",
       "    <tr>\n",
       "      <th>2</th>\n",
       "      <td>c7e667807d86ff2e83da48267e1135680cad68c86eb00f...</td>\n",
       "      <td>JD150617</td>\n",
       "      <td>NaN</td>\n",
       "      <td>02/13/2020 04:30:00 PM</td>\n",
       "      <td>30</td>\n",
       "      <td>NO CONTROLS</td>\n",
       "      <td>NO CONTROLS</td>\n",
       "      <td>CLEAR</td>\n",
       "      <td>DAYLIGHT</td>\n",
       "      <td>SIDESWIPE SAME DIRECTION</td>\n",
       "      <td>...</td>\n",
       "      <td>0.0</td>\n",
       "      <td>1.0</td>\n",
       "      <td>2.0</td>\n",
       "      <td>0.0</td>\n",
       "      <td>16</td>\n",
       "      <td>5</td>\n",
       "      <td>2</td>\n",
       "      <td>NaN</td>\n",
       "      <td>NaN</td>\n",
       "      <td>NaN</td>\n",
       "    </tr>\n",
       "    <tr>\n",
       "      <th>3</th>\n",
       "      <td>009e9e67203442370272e1a13d6ee51a4155dac65e583d...</td>\n",
       "      <td>JA329216</td>\n",
       "      <td>NaN</td>\n",
       "      <td>06/30/2017 04:00:00 PM</td>\n",
       "      <td>35</td>\n",
       "      <td>STOP SIGN/FLASHER</td>\n",
       "      <td>FUNCTIONING PROPERLY</td>\n",
       "      <td>CLEAR</td>\n",
       "      <td>DAYLIGHT</td>\n",
       "      <td>TURNING</td>\n",
       "      <td>...</td>\n",
       "      <td>0.0</td>\n",
       "      <td>0.0</td>\n",
       "      <td>3.0</td>\n",
       "      <td>0.0</td>\n",
       "      <td>16</td>\n",
       "      <td>6</td>\n",
       "      <td>6</td>\n",
       "      <td>41.741804</td>\n",
       "      <td>-87.740954</td>\n",
       "      <td>POINT (-87.740953581987 41.741803598989)</td>\n",
       "    </tr>\n",
       "    <tr>\n",
       "      <th>4</th>\n",
       "      <td>00e47f189660cd8ba1e85fc63061bf1d8465184393f134...</td>\n",
       "      <td>JC194776</td>\n",
       "      <td>NaN</td>\n",
       "      <td>03/21/2019 10:50:00 PM</td>\n",
       "      <td>30</td>\n",
       "      <td>TRAFFIC SIGNAL</td>\n",
       "      <td>FUNCTIONING PROPERLY</td>\n",
       "      <td>CLEAR</td>\n",
       "      <td>DARKNESS, LIGHTED ROAD</td>\n",
       "      <td>TURNING</td>\n",
       "      <td>...</td>\n",
       "      <td>0.0</td>\n",
       "      <td>0.0</td>\n",
       "      <td>2.0</td>\n",
       "      <td>0.0</td>\n",
       "      <td>22</td>\n",
       "      <td>5</td>\n",
       "      <td>3</td>\n",
       "      <td>41.741804</td>\n",
       "      <td>-87.740954</td>\n",
       "      <td>POINT (-87.740953581987 41.741803598989)</td>\n",
       "    </tr>\n",
       "  </tbody>\n",
       "</table>\n",
       "<p>5 rows × 49 columns</p>\n",
       "</div>"
      ],
      "text/plain": [
       "                                     CRASH_RECORD_ID     RD_NO  \\\n",
       "0  073682ef84ff827659552d4254ad1b98bfec24935cc9cc...  JB460108   \n",
       "1  1560fb8a1e32b528fef8bfd677d2b3fc5ab37278b157fa...  JC325941   \n",
       "2  c7e667807d86ff2e83da48267e1135680cad68c86eb00f...  JD150617   \n",
       "3  009e9e67203442370272e1a13d6ee51a4155dac65e583d...  JA329216   \n",
       "4  00e47f189660cd8ba1e85fc63061bf1d8465184393f134...  JC194776   \n",
       "\n",
       "  CRASH_DATE_EST_I              CRASH_DATE  POSTED_SPEED_LIMIT  \\\n",
       "0              NaN  10/02/2018 06:30:00 PM                  10   \n",
       "1              NaN  06/27/2019 04:00:00 PM                  45   \n",
       "2              NaN  02/13/2020 04:30:00 PM                  30   \n",
       "3              NaN  06/30/2017 04:00:00 PM                  35   \n",
       "4              NaN  03/21/2019 10:50:00 PM                  30   \n",
       "\n",
       "  TRAFFIC_CONTROL_DEVICE      DEVICE_CONDITION WEATHER_CONDITION  \\\n",
       "0            NO CONTROLS           NO CONTROLS             CLEAR   \n",
       "1            NO CONTROLS           NO CONTROLS             CLEAR   \n",
       "2            NO CONTROLS           NO CONTROLS             CLEAR   \n",
       "3      STOP SIGN/FLASHER  FUNCTIONING PROPERLY             CLEAR   \n",
       "4         TRAFFIC SIGNAL  FUNCTIONING PROPERLY             CLEAR   \n",
       "\n",
       "       LIGHTING_CONDITION          FIRST_CRASH_TYPE  ...  \\\n",
       "0                DARKNESS      PARKED MOTOR VEHICLE  ...   \n",
       "1                DAYLIGHT  SIDESWIPE SAME DIRECTION  ...   \n",
       "2                DAYLIGHT  SIDESWIPE SAME DIRECTION  ...   \n",
       "3                DAYLIGHT                   TURNING  ...   \n",
       "4  DARKNESS, LIGHTED ROAD                   TURNING  ...   \n",
       "\n",
       "  INJURIES_NON_INCAPACITATING  INJURIES_REPORTED_NOT_EVIDENT  \\\n",
       "0                         0.0                            0.0   \n",
       "1                         0.0                            0.0   \n",
       "2                         0.0                            1.0   \n",
       "3                         0.0                            0.0   \n",
       "4                         0.0                            0.0   \n",
       "\n",
       "  INJURIES_NO_INDICATION INJURIES_UNKNOWN CRASH_HOUR CRASH_DAY_OF_WEEK  \\\n",
       "0                    1.0              0.0         18                 3   \n",
       "1                    2.0              0.0         16                 5   \n",
       "2                    2.0              0.0         16                 5   \n",
       "3                    3.0              0.0         16                 6   \n",
       "4                    2.0              0.0         22                 5   \n",
       "\n",
       "  CRASH_MONTH   LATITUDE  LONGITUDE                                  LOCATION  \n",
       "0          10        NaN        NaN                                       NaN  \n",
       "1           6        NaN        NaN                                       NaN  \n",
       "2           2        NaN        NaN                                       NaN  \n",
       "3           6  41.741804 -87.740954  POINT (-87.740953581987 41.741803598989)  \n",
       "4           3  41.741804 -87.740954  POINT (-87.740953581987 41.741803598989)  \n",
       "\n",
       "[5 rows x 49 columns]"
      ]
     },
     "execution_count": 27,
     "metadata": {},
     "output_type": "execute_result"
    }
   ],
   "source": [
    "# load dataset\n",
    "df = pd.read_csv('crashes.csv')\n",
    "df.head()"
   ]
  },
  {
   "cell_type": "code",
   "execution_count": 28,
   "metadata": {},
   "outputs": [
    {
     "name": "stdout",
     "output_type": "stream",
     "text": [
      "<class 'pandas.core.frame.DataFrame'>\n",
      "RangeIndex: 453873 entries, 0 to 453872\n",
      "Data columns (total 49 columns):\n",
      " #   Column                         Non-Null Count   Dtype  \n",
      "---  ------                         --------------   -----  \n",
      " 0   CRASH_RECORD_ID                453873 non-null  object \n",
      " 1   RD_NO                          450376 non-null  object \n",
      " 2   CRASH_DATE_EST_I               33749 non-null   object \n",
      " 3   CRASH_DATE                     453873 non-null  object \n",
      " 4   POSTED_SPEED_LIMIT             453873 non-null  int64  \n",
      " 5   TRAFFIC_CONTROL_DEVICE         453873 non-null  object \n",
      " 6   DEVICE_CONDITION               453873 non-null  object \n",
      " 7   WEATHER_CONDITION              453873 non-null  object \n",
      " 8   LIGHTING_CONDITION             453873 non-null  object \n",
      " 9   FIRST_CRASH_TYPE               453873 non-null  object \n",
      " 10  TRAFFICWAY_TYPE                453873 non-null  object \n",
      " 11  LANE_CNT                       198959 non-null  float64\n",
      " 12  ALIGNMENT                      453873 non-null  object \n",
      " 13  ROADWAY_SURFACE_COND           453873 non-null  object \n",
      " 14  ROAD_DEFECT                    453873 non-null  object \n",
      " 15  REPORT_TYPE                    443012 non-null  object \n",
      " 16  CRASH_TYPE                     453873 non-null  object \n",
      " 17  INTERSECTION_RELATED_I         102110 non-null  object \n",
      " 18  NOT_RIGHT_OF_WAY_I             21284 non-null   object \n",
      " 19  HIT_AND_RUN_I                  131384 non-null  object \n",
      " 20  DAMAGE                         453873 non-null  object \n",
      " 21  DATE_POLICE_NOTIFIED           453873 non-null  object \n",
      " 22  PRIM_CONTRIBUTORY_CAUSE        453873 non-null  object \n",
      " 23  SEC_CONTRIBUTORY_CAUSE         453873 non-null  object \n",
      " 24  STREET_NO                      453873 non-null  int64  \n",
      " 25  STREET_DIRECTION               453870 non-null  object \n",
      " 26  STREET_NAME                    453872 non-null  object \n",
      " 27  BEAT_OF_OCCURRENCE             453868 non-null  float64\n",
      " 28  PHOTOS_TAKEN_I                 5734 non-null    object \n",
      " 29  STATEMENTS_TAKEN_I             9149 non-null    object \n",
      " 30  DOORING_I                      1506 non-null    object \n",
      " 31  WORK_ZONE_I                    3018 non-null    object \n",
      " 32  WORK_ZONE_TYPE                 2386 non-null    object \n",
      " 33  WORKERS_PRESENT_I              712 non-null     object \n",
      " 34  NUM_UNITS                      453873 non-null  int64  \n",
      " 35  MOST_SEVERE_INJURY             452971 non-null  object \n",
      " 36  INJURIES_TOTAL                 452981 non-null  float64\n",
      " 37  INJURIES_FATAL                 452981 non-null  float64\n",
      " 38  INJURIES_INCAPACITATING        452981 non-null  float64\n",
      " 39  INJURIES_NON_INCAPACITATING    452981 non-null  float64\n",
      " 40  INJURIES_REPORTED_NOT_EVIDENT  452981 non-null  float64\n",
      " 41  INJURIES_NO_INDICATION         452981 non-null  float64\n",
      " 42  INJURIES_UNKNOWN               452981 non-null  float64\n",
      " 43  CRASH_HOUR                     453873 non-null  int64  \n",
      " 44  CRASH_DAY_OF_WEEK              453873 non-null  int64  \n",
      " 45  CRASH_MONTH                    453873 non-null  int64  \n",
      " 46  LATITUDE                       451411 non-null  float64\n",
      " 47  LONGITUDE                      451411 non-null  float64\n",
      " 48  LOCATION                       451411 non-null  object \n",
      "dtypes: float64(11), int64(6), object(32)\n",
      "memory usage: 169.7+ MB\n"
     ]
    }
   ],
   "source": [
    "df.info()"
   ]
  },
  {
   "cell_type": "code",
   "execution_count": 29,
   "metadata": {},
   "outputs": [
    {
     "data": {
      "image/png": "[encoded data removed]",
      "text/plain": [
       "<Figure size 432x288 with 2 Axes>"
      ]
     },
     "metadata": {
      "needs_background": "light"
     },
     "output_type": "display_data"
    }
   ],
   "source": [
    "#A heatmap of the missing values visually shows the data that is missing\n",
    "#sns.heatmap(df.isnull())\n",
    "#plt.show()"
   ]
  },
  {
   "cell_type": "code",
   "execution_count": 30,
   "metadata": {},
   "outputs": [
    {
     "data": {
      "text/plain": [
       "Index(['CRASH_RECORD_ID', 'RD_NO', 'CRASH_DATE_EST_I', 'CRASH_DATE',\n",
       "       'POSTED_SPEED_LIMIT', 'TRAFFIC_CONTROL_DEVICE', 'DEVICE_CONDITION',\n",
       "       'WEATHER_CONDITION', 'LIGHTING_CONDITION', 'FIRST_CRASH_TYPE',\n",
       "       'TRAFFICWAY_TYPE', 'LANE_CNT', 'ALIGNMENT', 'ROADWAY_SURFACE_COND',\n",
       "       'ROAD_DEFECT', 'REPORT_TYPE', 'CRASH_TYPE', 'INTERSECTION_RELATED_I',\n",
       "       'NOT_RIGHT_OF_WAY_I', 'HIT_AND_RUN_I', 'DAMAGE', 'DATE_POLICE_NOTIFIED',\n",
       "       'PRIM_CONTRIBUTORY_CAUSE', 'SEC_CONTRIBUTORY_CAUSE', 'STREET_NO',\n",
       "       'STREET_DIRECTION', 'STREET_NAME', 'BEAT_OF_OCCURRENCE',\n",
       "       'PHOTOS_TAKEN_I', 'STATEMENTS_TAKEN_I', 'DOORING_I', 'WORK_ZONE_I',\n",
       "       'WORK_ZONE_TYPE', 'WORKERS_PRESENT_I', 'NUM_UNITS',\n",
       "       'MOST_SEVERE_INJURY', 'INJURIES_TOTAL', 'INJURIES_FATAL',\n",
       "       'INJURIES_INCAPACITATING', 'INJURIES_NON_INCAPACITATING',\n",
       "       'INJURIES_REPORTED_NOT_EVIDENT', 'INJURIES_NO_INDICATION',\n",
       "       'INJURIES_UNKNOWN', 'CRASH_HOUR', 'CRASH_DAY_OF_WEEK', 'CRASH_MONTH',\n",
       "       'LATITUDE', 'LONGITUDE', 'LOCATION'],\n",
       "      dtype='object')"
      ]
     },
     "execution_count": 30,
     "metadata": {},
     "output_type": "execute_result"
    }
   ],
   "source": [
    "df.columns"
   ]
  },
  {
   "cell_type": "code",
   "execution_count": 31,
   "metadata": {},
   "outputs": [
    {
     "name": "stdout",
     "output_type": "stream",
     "text": [
      "<class 'pandas.core.frame.DataFrame'>\n",
      "RangeIndex: 453873 entries, 0 to 453872\n",
      "Data columns (total 38 columns):\n",
      " #   Column                         Non-Null Count   Dtype  \n",
      "---  ------                         --------------   -----  \n",
      " 0   CRASH_RECORD_ID                453873 non-null  object \n",
      " 1   RD_NO                          450376 non-null  object \n",
      " 2   CRASH_DATE                     453873 non-null  object \n",
      " 3   POSTED_SPEED_LIMIT             453873 non-null  int64  \n",
      " 4   TRAFFIC_CONTROL_DEVICE         453873 non-null  object \n",
      " 5   DEVICE_CONDITION               453873 non-null  object \n",
      " 6   WEATHER_CONDITION              453873 non-null  object \n",
      " 7   LIGHTING_CONDITION             453873 non-null  object \n",
      " 8   FIRST_CRASH_TYPE               453873 non-null  object \n",
      " 9   TRAFFICWAY_TYPE                453873 non-null  object \n",
      " 10  ALIGNMENT                      453873 non-null  object \n",
      " 11  ROADWAY_SURFACE_COND           453873 non-null  object \n",
      " 12  ROAD_DEFECT                    453873 non-null  object \n",
      " 13  REPORT_TYPE                    443012 non-null  object \n",
      " 14  CRASH_TYPE                     453873 non-null  object \n",
      " 15  DAMAGE                         453873 non-null  object \n",
      " 16  DATE_POLICE_NOTIFIED           453873 non-null  object \n",
      " 17  PRIM_CONTRIBUTORY_CAUSE        453873 non-null  object \n",
      " 18  SEC_CONTRIBUTORY_CAUSE         453873 non-null  object \n",
      " 19  STREET_NO                      453873 non-null  int64  \n",
      " 20  STREET_DIRECTION               453870 non-null  object \n",
      " 21  STREET_NAME                    453872 non-null  object \n",
      " 22  BEAT_OF_OCCURRENCE             453868 non-null  float64\n",
      " 23  NUM_UNITS                      453873 non-null  int64  \n",
      " 24  MOST_SEVERE_INJURY             452971 non-null  object \n",
      " 25  INJURIES_TOTAL                 452981 non-null  float64\n",
      " 26  INJURIES_FATAL                 452981 non-null  float64\n",
      " 27  INJURIES_INCAPACITATING        452981 non-null  float64\n",
      " 28  INJURIES_NON_INCAPACITATING    452981 non-null  float64\n",
      " 29  INJURIES_REPORTED_NOT_EVIDENT  452981 non-null  float64\n",
      " 30  INJURIES_NO_INDICATION         452981 non-null  float64\n",
      " 31  INJURIES_UNKNOWN               452981 non-null  float64\n",
      " 32  CRASH_HOUR                     453873 non-null  int64  \n",
      " 33  CRASH_DAY_OF_WEEK              453873 non-null  int64  \n",
      " 34  CRASH_MONTH                    453873 non-null  int64  \n",
      " 35  LATITUDE                       451411 non-null  float64\n",
      " 36  LONGITUDE                      451411 non-null  float64\n",
      " 37  LOCATION                       451411 non-null  object \n",
      "dtypes: float64(10), int64(6), object(22)\n",
      "memory usage: 131.6+ MB\n"
     ]
    }
   ],
   "source": [
    "crashdata = df.drop(['CRASH_DATE_EST_I', 'LANE_CNT', 'INTERSECTION_RELATED_I', 'NOT_RIGHT_OF_WAY_I',\n",
    "        'HIT_AND_RUN_I', 'PHOTOS_TAKEN_I', 'STATEMENTS_TAKEN_I', 'DOORING_I', 'WORK_ZONE_I', 'WORK_ZONE_TYPE',\n",
    "        'WORKERS_PRESENT_I'], axis=1)\n",
    "crashdata.info()"
   ]
  },
  {
   "cell_type": "code",
   "execution_count": 32,
   "metadata": {},
   "outputs": [
    {
     "data": {
      "text/plain": [
       "CRASH_RECORD_ID                  False\n",
       "RD_NO                             True\n",
       "CRASH_DATE                       False\n",
       "POSTED_SPEED_LIMIT               False\n",
       "TRAFFIC_CONTROL_DEVICE           False\n",
       "DEVICE_CONDITION                 False\n",
       "WEATHER_CONDITION                False\n",
       "LIGHTING_CONDITION               False\n",
       "FIRST_CRASH_TYPE                 False\n",
       "TRAFFICWAY_TYPE                  False\n",
       "ALIGNMENT                        False\n",
       "ROADWAY_SURFACE_COND             False\n",
       "ROAD_DEFECT                      False\n",
       "REPORT_TYPE                       True\n",
       "CRASH_TYPE                       False\n",
       "DAMAGE                           False\n",
       "DATE_POLICE_NOTIFIED             False\n",
       "PRIM_CONTRIBUTORY_CAUSE          False\n",
       "SEC_CONTRIBUTORY_CAUSE           False\n",
       "STREET_NO                        False\n",
       "STREET_DIRECTION                  True\n",
       "STREET_NAME                       True\n",
       "BEAT_OF_OCCURRENCE                True\n",
       "NUM_UNITS                        False\n",
       "MOST_SEVERE_INJURY                True\n",
       "INJURIES_TOTAL                    True\n",
       "INJURIES_FATAL                    True\n",
       "INJURIES_INCAPACITATING           True\n",
       "INJURIES_NON_INCAPACITATING       True\n",
       "INJURIES_REPORTED_NOT_EVIDENT     True\n",
       "INJURIES_NO_INDICATION            True\n",
       "INJURIES_UNKNOWN                  True\n",
       "CRASH_HOUR                       False\n",
       "CRASH_DAY_OF_WEEK                False\n",
       "CRASH_MONTH                      False\n",
       "LATITUDE                          True\n",
       "LONGITUDE                         True\n",
       "LOCATION                          True\n",
       "dtype: bool"
      ]
     },
     "execution_count": 32,
     "metadata": {},
     "output_type": "execute_result"
    }
   ],
   "source": [
    "crashdata.isnull().any()"
   ]
  },
  {
   "cell_type": "code",
   "execution_count": 33,
   "metadata": {},
   "outputs": [
    {
     "data": {
      "image/png": "[encoded data removed]",
      "text/plain": [
       "<Figure size 432x288 with 2 Axes>"
      ]
     },
     "metadata": {
      "needs_background": "light"
     },
     "output_type": "display_data"
    }
   ],
   "source": [
    "#sns.heatmap(crashdata.isnull())\n",
    "#plt.show()"
   ]
  },
  {
   "cell_type": "code",
   "execution_count": 40,
   "metadata": {},
   "outputs": [
    {
     "data": {
      "text/plain": [
       "30    334265\n",
       "35     31352\n",
       "25     27461\n",
       "20     17564\n",
       "15     15740\n",
       "10      9371\n",
       "0       6706\n",
       "40      4120\n",
       "5       3577\n",
       "45      2710\n",
       "55       423\n",
       "3        111\n",
       "50        95\n",
       "9         89\n",
       "99        66\n",
       "39        49\n",
       "1         35\n",
       "60        26\n",
       "2         19\n",
       "32        13\n",
       "24        13\n",
       "65        12\n",
       "33         9\n",
       "34         7\n",
       "6          7\n",
       "36         5\n",
       "11         5\n",
       "70         3\n",
       "14         2\n",
       "12         2\n",
       "18         2\n",
       "26         2\n",
       "31         2\n",
       "7          2\n",
       "4          1\n",
       "49         1\n",
       "63         1\n",
       "16         1\n",
       "23         1\n",
       "29         1\n",
       "38         1\n",
       "22         1\n",
       "Name: POSTED_SPEED_LIMIT, dtype: int64"
      ]
     },
     "execution_count": 40,
     "metadata": {},
     "output_type": "execute_result"
    }
   ],
   "source": [
    "crashdata['POSTED_SPEED_LIMIT'].value_counts()"
   ]
  },
  {
   "cell_type": "code",
   "execution_count": 41,
   "metadata": {},
   "outputs": [
    {
     "data": {
      "text/plain": [
       "10    46438\n",
       "9     43290\n",
       "8     41900\n",
       "7     40151\n",
       "6     38032\n",
       "11    37454\n",
       "12    37012\n",
       "5     36907\n",
       "1     34455\n",
       "3     33761\n",
       "2     33022\n",
       "4     31451\n",
       "Name: CRASH_MONTH, dtype: int64"
      ]
     },
     "execution_count": 41,
     "metadata": {},
     "output_type": "execute_result"
    }
   ],
   "source": [
    "crashdata['CRASH_MONTH'].value_counts()"
   ]
  },
  {
   "cell_type": "code",
   "execution_count": null,
   "metadata": {},
   "outputs": [],
   "source": []
  }
 ],
 "metadata": {
  "kernelspec": {
   "display_name": "Python 3",
   "language": "python",
   "name": "python3"
  },
  "language_info": {
   "codemirror_mode": {
    "name": "ipython",
    "version": 3
   },
   "file_extension": ".py",
   "mimetype": "text/x-python",
   "name": "python",
   "nbconvert_exporter": "python",
   "pygments_lexer": "ipython3",
   "version": "3.6.9"
  }
 },
 "nbformat": 4,
 "nbformat_minor": 2
}
